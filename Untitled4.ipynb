{
  "nbformat": 4,
  "nbformat_minor": 0,
  "metadata": {
    "colab": {
      "provenance": [],
      "authorship_tag": "ABX9TyPYcZAmld5KVpn/ZwqtxO4/",
      "include_colab_link": true
    },
    "kernelspec": {
      "name": "python3",
      "display_name": "Python 3"
    },
    "language_info": {
      "name": "python"
    }
  },
  "cells": [
    {
      "cell_type": "markdown",
      "metadata": {
        "id": "view-in-github",
        "colab_type": "text"
      },
      "source": [
        "<a href=\"https://colab.research.google.com/github/DIVANSINGH-17/BMSCE/blob/main/Untitled4.ipynb\" target=\"_parent\"><img src=\"https://colab.research.google.com/assets/colab-badge.svg\" alt=\"Open In Colab\"/></a>"
      ]
    },
    {
      "cell_type": "code",
      "execution_count": null,
      "metadata": {
        "colab": {
          "base_uri": "https://localhost:8080/"
        },
        "id": "jBQvYiPbw6Qc",
        "outputId": "b84ef55b-14f9-4009-bb6f-c7fd9b26f476"
      },
      "outputs": [
        {
          "output_type": "stream",
          "name": "stdout",
          "text": [
            "Original symmetric matrix A:\n",
            "[[ 2 -2  1]\n",
            " [-2  2  0]\n",
            " [ 1  0  2]]\n",
            "\n",
            " Transformation matrix P(eigenvectors matrix):\n",
            "[[-0.70710678  0.          0.70710678]\n",
            " [ 0.63245553  0.4472136   0.63245553]\n",
            " [-0.31622777  0.89442719 -0.31622777]]\n",
            "\n",
            " Diagonal matrix D(eigenvalues matrix):\n",
            "[[ 4.23606798  0.          0.        ]\n",
            " [ 0.          2.          0.        ]\n",
            " [ 0.          0.         -0.23606798]]\n"
          ]
        }
      ],
      "source": [
        "import numpy as np\n",
        "def reduce_to_canonical_form(A):\n",
        "  if not np.allclose(A,A.T):\n",
        "    raise ValueError(\"Matrix A must be symmetric for reduction to canonical form\")\n",
        "  eigenvalues,eigenvectors=np.linalg.eigh(A)\n",
        "  idx=np.argsort(eigenvalues)[::-1]\n",
        "  eigenvalues=eigenvalues[idx]\n",
        "  eigenvectors=eigenvectors[:,idx]\n",
        "  D=np.diag(eigenvalues)\n",
        "  P=eigenvectors\n",
        "  return P,D\n",
        "A=np.array([[2,-2,1],[-2,2,0],[1,0,2]])\n",
        "try:\n",
        "  P,D=reduce_to_canonical_form(A)\n",
        "  print(\"Original symmetric matrix A:\")\n",
        "  print(A)\n",
        "  print(\"\\n Transformation matrix P(eigenvectors matrix):\")\n",
        "  print(P)\n",
        "  print(\"\\n Diagonal matrix D(eigenvalues matrix):\")\n",
        "  print(D)\n",
        "except ValueError as e:\n",
        "  print(e)"
      ]
    },
    {
      "cell_type": "code",
      "source": [
        "from google.colab import drive\n",
        "drive.mount('/content/drive')"
      ],
      "metadata": {
        "colab": {
          "base_uri": "https://localhost:8080/"
        },
        "id": "KMw6sfsI_VHj",
        "outputId": "80662f4f-fb0a-410d-802e-4d24aa32827b"
      },
      "execution_count": 1,
      "outputs": [
        {
          "output_type": "stream",
          "name": "stdout",
          "text": [
            "Mounted at /content/drive\n"
          ]
        }
      ]
    },
    {
      "cell_type": "code",
      "source": [
        "import numpy as np\n",
        "A=np.array([[2,0,1],[-1,1,0],[0,2,-1]])\n",
        "B=np.array([1,1,1])\n",
        "solution,residuals,rank,s=np.linalg.lstsq(A,B,rcond=None)\n",
        "error_vector=B-np.dot(A,solution)\n",
        "mag_of_error_vector=np.linalg.norm(error_vector)\n",
        "print(\"Solution vector:\")\n",
        "print(solution)\n",
        "print(\"Error Vector:\",error_vector)\n",
        "print(\"Magnitude of error vector:\",mag_of_error_vector)"
      ],
      "metadata": {
        "colab": {
          "base_uri": "https://localhost:8080/"
        },
        "id": "3V_YX1eRyh1F",
        "outputId": "d7fe3fa1-087e-4a82-c3f8-1fbfeedfbdd3"
      },
      "execution_count": null,
      "outputs": [
        {
          "output_type": "stream",
          "name": "stdout",
          "text": [
            "Solution vector:\n",
            "[-5.95982585e-17  1.00000000e+00  1.00000000e+00]\n",
            "Error Vector: [ 0.00000000e+00 -4.44089210e-16 -6.66133815e-16]\n",
            "Magnitude of error vector: 8.005932084973442e-16\n"
          ]
        }
      ]
    },
    {
      "cell_type": "markdown",
      "source": [],
      "metadata": {
        "id": "LT8rax_b4dYF"
      }
    }
  ]
}